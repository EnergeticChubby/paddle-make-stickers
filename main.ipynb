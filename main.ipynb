{
 "cells": [
  {
   "cell_type": "markdown",
   "metadata": {
    "collapsed": false
   },
   "source": [
    "# Paddle给我来个表情\n",
    "\n",
    "**随着新年的到来，在微信发红包肯定是必不可少的。在发红包，加个GIF上去，贼有逼格。但是怎么加GIF呢？Paddle直接帮你将一张照片变为GIF**\n",
    "\n",
    "![](https://ai-studio-static-online.cdn.bcebos.com/73891cae9c7243808e81fd55c6fbe54b920747640fbb429791ee045ce8b43e27)\n",
    "![](https://ai-studio-static-online.cdn.bcebos.com/47cc34052dcc4046a166e65b8463fdc83a65394957924e4b93d3628678390a25)\n",
    "\n"
   ]
  },
  {
   "cell_type": "markdown",
   "metadata": {
    "collapsed": false
   },
   "source": [
    "**在运行Fastspeech文字转语音时，可能会炸显存，取决于文本量，建议用32GB版本的V100来运行此项目，查看方法，请到我另一个项目中查看哦，[传送门](https://aistudio.baidu.com/aistudio/projectdetail/1499994)**"
   ]
  },
  {
   "cell_type": "markdown",
   "metadata": {
    "collapsed": false
   },
   "source": [
    "# 1、安装Parakeet\n",
    "备注：不要从GitHub直接下载，直接下载的是release/v0.2，在0.2版本没有fastspeech的example，所以要下载的版本是**release/v0.1**"
   ]
  },
  {
   "cell_type": "code",
   "execution_count": null,
   "metadata": {
    "collapsed": false
   },
   "outputs": [
    {
     "name": "stdout",
     "output_type": "stream",
     "text": [
      "/home/aistudio/Parakeet\n",
      "Looking in indexes: https://mirror.baidu.com/pypi/simple/\n",
      "Obtaining file:///home/aistudio/Parakeet\n",
      "Requirement already satisfied: numpy in /opt/conda/envs/python35-paddle120-env/lib/python3.7/site-packages (from parakeet==0.0.0) (1.20.1)\n",
      "Requirement already satisfied: nltk in /opt/conda/envs/python35-paddle120-env/lib/python3.7/site-packages (from parakeet==0.0.0) (3.4.5)\n",
      "Requirement already satisfied: inflect in /opt/conda/envs/python35-paddle120-env/lib/python3.7/site-packages (from parakeet==0.0.0) (5.0.2)\n",
      "Requirement already satisfied: librosa in /opt/conda/envs/python35-paddle120-env/lib/python3.7/site-packages (from parakeet==0.0.0) (0.7.0)\n",
      "Requirement already satisfied: unidecode in /opt/conda/envs/python35-paddle120-env/lib/python3.7/site-packages (from parakeet==0.0.0) (1.2.0)\n",
      "Collecting numba==0.47.0 (from parakeet==0.0.0)\n",
      "\u001b[?25l  Downloading https://mirror.baidu.com/pypi/packages/8f/d7/9f0a9e1b173fddc77ad6cb8943bc433a850c2a6d3fa5c02a086400ba0c8f/numba-0.47.0-cp37-cp37m-manylinux1_x86_64.whl (3.7MB)\n",
      "\u001b[K     |████████████████████████████████| 3.7MB 14.8MB/s eta 0:00:01\n",
      "\u001b[?25hRequirement already satisfied: tqdm==4.19.8 in /opt/conda/envs/python35-paddle120-env/lib/python3.7/site-packages (from parakeet==0.0.0) (4.19.8)\n",
      "Requirement already satisfied: matplotlib in /opt/conda/envs/python35-paddle120-env/lib/python3.7/site-packages (from parakeet==0.0.0) (2.2.3)\n",
      "Requirement already satisfied: tensorboardX in /opt/conda/envs/python35-paddle120-env/lib/python3.7/site-packages (from parakeet==0.0.0) (1.8)\n",
      "Requirement already satisfied: tensorboard in /opt/conda/envs/python35-paddle120-env/lib/python3.7/site-packages (from parakeet==0.0.0) (2.1.0)\n",
      "Requirement already satisfied: scipy in /opt/conda/envs/python35-paddle120-env/lib/python3.7/site-packages (from parakeet==0.0.0) (1.3.0)\n",
      "Requirement already satisfied: ruamel.yaml in /opt/conda/envs/python35-paddle120-env/lib/python3.7/site-packages (from parakeet==0.0.0) (0.16.12)\n",
      "Requirement already satisfied: pandas in /opt/conda/envs/python35-paddle120-env/lib/python3.7/site-packages (from parakeet==0.0.0) (0.23.4)\n",
      "Requirement already satisfied: sox in /opt/conda/envs/python35-paddle120-env/lib/python3.7/site-packages (from parakeet==0.0.0) (1.4.1)\n",
      "Requirement already satisfied: soundfile in /opt/conda/envs/python35-paddle120-env/lib/python3.7/site-packages (from parakeet==0.0.0) (0.10.3.post1)\n",
      "Requirement already satisfied: llvmlite==0.31.0 in /opt/conda/envs/python35-paddle120-env/lib/python3.7/site-packages (from parakeet==0.0.0) (0.31.0)\n",
      "Requirement already satisfied: six in /opt/conda/envs/python35-paddle120-env/lib/python3.7/site-packages (from nltk->parakeet==0.0.0) (1.15.0)\n",
      "Requirement already satisfied: audioread>=2.0.0 in /opt/conda/envs/python35-paddle120-env/lib/python3.7/site-packages (from librosa->parakeet==0.0.0) (2.1.8)\n",
      "Requirement already satisfied: decorator>=3.0.0 in /opt/conda/envs/python35-paddle120-env/lib/python3.7/site-packages (from librosa->parakeet==0.0.0) (4.4.0)\n",
      "Requirement already satisfied: scikit-learn!=0.19.0,>=0.14.0 in /opt/conda/envs/python35-paddle120-env/lib/python3.7/site-packages (from librosa->parakeet==0.0.0) (0.22.1)\n",
      "Requirement already satisfied: resampy>=0.2.0 in /opt/conda/envs/python35-paddle120-env/lib/python3.7/site-packages (from librosa->parakeet==0.0.0) (0.2.2)\n",
      "Requirement already satisfied: joblib>=0.12 in /opt/conda/envs/python35-paddle120-env/lib/python3.7/site-packages (from librosa->parakeet==0.0.0) (0.14.1)\n",
      "Requirement already satisfied: setuptools in /opt/conda/envs/python35-paddle120-env/lib/python3.7/site-packages (from numba==0.47.0->parakeet==0.0.0) (41.4.0)\n",
      "Requirement already satisfied: pyparsing!=2.0.4,!=2.1.2,!=2.1.6,>=2.0.1 in /opt/conda/envs/python35-paddle120-env/lib/python3.7/site-packages (from matplotlib->parakeet==0.0.0) (2.4.2)\n",
      "Requirement already satisfied: cycler>=0.10 in /opt/conda/envs/python35-paddle120-env/lib/python3.7/site-packages (from matplotlib->parakeet==0.0.0) (0.10.0)\n",
      "Requirement already satisfied: python-dateutil>=2.1 in /opt/conda/envs/python35-paddle120-env/lib/python3.7/site-packages (from matplotlib->parakeet==0.0.0) (2.8.0)\n",
      "Requirement already satisfied: pytz in /opt/conda/envs/python35-paddle120-env/lib/python3.7/site-packages (from matplotlib->parakeet==0.0.0) (2019.3)\n",
      "Requirement already satisfied: kiwisolver>=1.0.1 in /opt/conda/envs/python35-paddle120-env/lib/python3.7/site-packages (from matplotlib->parakeet==0.0.0) (1.1.0)\n",
      "Requirement already satisfied: protobuf>=3.2.0 in /opt/conda/envs/python35-paddle120-env/lib/python3.7/site-packages (from tensorboardX->parakeet==0.0.0) (3.14.0)\n",
      "Requirement already satisfied: wheel>=0.26; python_version >= \"3\" in /opt/conda/envs/python35-paddle120-env/lib/python3.7/site-packages (from tensorboard->parakeet==0.0.0) (0.33.6)\n",
      "Requirement already satisfied: requests<3,>=2.21.0 in /opt/conda/envs/python35-paddle120-env/lib/python3.7/site-packages (from tensorboard->parakeet==0.0.0) (2.22.0)\n",
      "Requirement already satisfied: absl-py>=0.4 in /opt/conda/envs/python35-paddle120-env/lib/python3.7/site-packages (from tensorboard->parakeet==0.0.0) (0.8.1)\n",
      "Requirement already satisfied: grpcio>=1.24.3 in /opt/conda/envs/python35-paddle120-env/lib/python3.7/site-packages (from tensorboard->parakeet==0.0.0) (1.35.0)\n",
      "Requirement already satisfied: werkzeug>=0.11.15 in /opt/conda/envs/python35-paddle120-env/lib/python3.7/site-packages (from tensorboard->parakeet==0.0.0) (0.16.0)\n",
      "Requirement already satisfied: google-auth<2,>=1.6.3 in /opt/conda/envs/python35-paddle120-env/lib/python3.7/site-packages (from tensorboard->parakeet==0.0.0) (1.10.0)\n",
      "Requirement already satisfied: google-auth-oauthlib<0.5,>=0.4.1 in /opt/conda/envs/python35-paddle120-env/lib/python3.7/site-packages (from tensorboard->parakeet==0.0.0) (0.4.1)\n",
      "Requirement already satisfied: markdown>=2.6.8 in /opt/conda/envs/python35-paddle120-env/lib/python3.7/site-packages (from tensorboard->parakeet==0.0.0) (3.1.1)\n",
      "Requirement already satisfied: ruamel.yaml.clib>=0.1.2; platform_python_implementation == \"CPython\" and python_version < \"3.9\" in /opt/conda/envs/python35-paddle120-env/lib/python3.7/site-packages (from ruamel.yaml->parakeet==0.0.0) (0.2.2)\n",
      "Requirement already satisfied: cffi>=1.0 in /opt/conda/envs/python35-paddle120-env/lib/python3.7/site-packages (from soundfile->parakeet==0.0.0) (1.14.0)\n",
      "Requirement already satisfied: certifi>=2017.4.17 in /opt/conda/envs/python35-paddle120-env/lib/python3.7/site-packages (from requests<3,>=2.21.0->tensorboard->parakeet==0.0.0) (2019.9.11)\n",
      "Requirement already satisfied: urllib3!=1.25.0,!=1.25.1,<1.26,>=1.21.1 in /opt/conda/envs/python35-paddle120-env/lib/python3.7/site-packages (from requests<3,>=2.21.0->tensorboard->parakeet==0.0.0) (1.25.6)\n",
      "Requirement already satisfied: chardet<3.1.0,>=3.0.2 in /opt/conda/envs/python35-paddle120-env/lib/python3.7/site-packages (from requests<3,>=2.21.0->tensorboard->parakeet==0.0.0) (3.0.4)\n",
      "Requirement already satisfied: idna<2.9,>=2.5 in /opt/conda/envs/python35-paddle120-env/lib/python3.7/site-packages (from requests<3,>=2.21.0->tensorboard->parakeet==0.0.0) (2.8)\n",
      "Requirement already satisfied: pyasn1-modules>=0.2.1 in /opt/conda/envs/python35-paddle120-env/lib/python3.7/site-packages (from google-auth<2,>=1.6.3->tensorboard->parakeet==0.0.0) (0.2.7)\n",
      "Requirement already satisfied: cachetools<5.0,>=2.0.0 in /opt/conda/envs/python35-paddle120-env/lib/python3.7/site-packages (from google-auth<2,>=1.6.3->tensorboard->parakeet==0.0.0) (4.0.0)\n",
      "Requirement already satisfied: rsa<4.1,>=3.1.4 in /opt/conda/envs/python35-paddle120-env/lib/python3.7/site-packages (from google-auth<2,>=1.6.3->tensorboard->parakeet==0.0.0) (4.0)\n",
      "Requirement already satisfied: requests-oauthlib>=0.7.0 in /opt/conda/envs/python35-paddle120-env/lib/python3.7/site-packages (from google-auth-oauthlib<0.5,>=0.4.1->tensorboard->parakeet==0.0.0) (1.3.0)\n",
      "Requirement already satisfied: pycparser in /opt/conda/envs/python35-paddle120-env/lib/python3.7/site-packages (from cffi>=1.0->soundfile->parakeet==0.0.0) (2.19)\n",
      "Requirement already satisfied: pyasn1<0.5.0,>=0.4.6 in /opt/conda/envs/python35-paddle120-env/lib/python3.7/site-packages (from pyasn1-modules>=0.2.1->google-auth<2,>=1.6.3->tensorboard->parakeet==0.0.0) (0.4.8)\n",
      "Requirement already satisfied: oauthlib>=3.0.0 in /opt/conda/envs/python35-paddle120-env/lib/python3.7/site-packages (from requests-oauthlib>=0.7.0->google-auth-oauthlib<0.5,>=0.4.1->tensorboard->parakeet==0.0.0) (3.1.0)\n",
      "Installing collected packages: numba, parakeet\n",
      "  Found existing installation: numba 0.48.0\n",
      "    Uninstalling numba-0.48.0:\n",
      "      Successfully uninstalled numba-0.48.0\n",
      "  Found existing installation: parakeet 0.0.0\n",
      "    Uninstalling parakeet-0.0.0:\n",
      "      Successfully uninstalled parakeet-0.0.0\n",
      "  Running setup.py develop for parakeet\n",
      "Successfully installed numba-0.47.0 parakeet\n",
      "/home/aistudio\n"
     ]
    }
   ],
   "source": [
    "!tar -xf /home/aistudio/Parakeet.tar\r\n",
    "%cd /home/aistudio/Parakeet\r\n",
    "!pip install -e .\r\n",
    "%cd .."
   ]
  },
  {
   "cell_type": "markdown",
   "metadata": {
    "collapsed": false
   },
   "source": [
    "## 立即重启环境，Parakeet才能使用，否则后面程序会报错的\n",
    "![](https://ai-studio-static-online.cdn.bcebos.com/93c2e8d814804671a420a0422a11ad80fd814764e64d4e94a90ab2686edbb822)\n",
    "\n"
   ]
  },
  {
   "cell_type": "markdown",
   "metadata": {
    "collapsed": false
   },
   "source": [
    "# 2、清除上次运行的临时文件\n",
    "备注：有#的一定要从**终端**删除，在notebook是无法删除的。\n",
    "\n",
    "![](https://ai-studio-static-online.cdn.bcebos.com/8f6e99879cfc4ea5addf74bbd9e372071cf60fde4388455097ed46ccf6428360)"
   ]
  },
  {
   "cell_type": "code",
   "execution_count": null,
   "metadata": {
    "collapsed": false
   },
   "outputs": [
    {
     "name": "stdout",
     "output_type": "stream",
     "text": [
      "mkdir: cannot create directory ‘work/mp4_img’: File exists\r\n",
      "mkdir: cannot create directory ‘work/mp4_img2’: File exists\r\n",
      "mkdir: cannot create directory ‘work/img2video’: File exists\r\n",
      "mkdir: cannot create directory ‘work/img’: File exists\r\n"
     ]
    }
   ],
   "source": [
    "#rm -rf Parakeet/examples/fastspeech/waveflow_article3.wav Parakeet/examples/fastspeech/waveflow_article3.txt Parakeet/examples/fastspeech/synthesis/samples/*\r\n",
    "!rm -rf work/mp4_img/* work/mp4_img2/* work/img2video/* work/img/*\r\n",
    "!mkdir work/mp4_img work/mp4_img2 work/img2video work/img"
   ]
  },
  {
   "cell_type": "markdown",
   "metadata": {
    "collapsed": false
   },
   "source": [
    "# 3、设置GPU环境和参数"
   ]
  },
  {
   "cell_type": "code",
   "execution_count": 11,
   "metadata": {
    "collapsed": false
   },
   "outputs": [
    {
     "name": "stdout",
     "output_type": "stream",
     "text": [
      "env: CUDA_VISIBLE_DEVICES=0\n"
     ]
    }
   ],
   "source": [
    "%env CUDA_VISIBLE_DEVICES=0\r\n",
    "%matplotlib inline"
   ]
  },
  {
   "cell_type": "code",
   "execution_count": 10,
   "metadata": {
    "collapsed": false
   },
   "outputs": [],
   "source": [
    "img=\"person.jpg\"#所需处理的图片\r\n",
    "text=\"Happy new year!\\nGive me a big red envelope!\"#需要转语音的文本,支持多行文本"
   ]
  },
  {
   "cell_type": "markdown",
   "metadata": {
    "collapsed": false
   },
   "source": [
    "# 4、利用Fastspeech将文字转语音"
   ]
  },
  {
   "cell_type": "code",
   "execution_count": null,
   "metadata": {
    "collapsed": false
   },
   "outputs": [],
   "source": [
    "def writetext(text):\r\n",
    "    a=open('article.txt', 'w')\r\n",
    "    a.write(text)\r\n",
    "    a.close()\r\n",
    "writetext(text)"
   ]
  },
  {
   "cell_type": "code",
   "execution_count": null,
   "metadata": {
    "collapsed": false
   },
   "outputs": [
    {
     "name": "stdout",
     "output_type": "stream",
     "text": [
      "/home/aistudio/Parakeet/examples/fastspeech\n"
     ]
    }
   ],
   "source": [
    "%cd /home/aistudio/Parakeet/examples/fastspeech"
   ]
  },
  {
   "cell_type": "code",
   "execution_count": null,
   "metadata": {
    "collapsed": false
   },
   "outputs": [
    {
     "name": "stdout",
     "output_type": "stream",
     "text": [
      "{'alpha': 1.0,\n",
      " 'checkpoint': './fastspeech_ljspeech_ckpt_1.0/step-162000',\n",
      " 'checkpoint_vocoder': './waveflow_res128_ljspeech_ckpt_1.0/step-2000000',\n",
      " 'config': './fastspeech_ljspeech_ckpt_1.0/ljspeech.yaml',\n",
      " 'config_vocoder': './waveflow_res128_ljspeech_ckpt_1.0/waveflow_ljspeech.yaml',\n",
      " 'output': './synthesis',\n",
      " 'text_input': '/home/aistudio/article.txt',\n",
      " 'use_gpu': 1,\n",
      " 'vocoder': 'waveflow'}\n",
      "[checkpoint] Rank 0: loaded model from ./fastspeech_ljspeech_ckpt_1.0/step-162000.pdparams\n",
      "[checkpoint] Rank 0: loaded model from ./waveflow_res128_ljspeech_ckpt_1.0/step-2000000.pdparams\n",
      "Synthesis completed !!!\n",
      "[checkpoint] Rank 0: loaded model from ./waveflow_res128_ljspeech_ckpt_1.0/step-2000000.pdparams\n",
      "Synthesis completed !!!\n"
     ]
    }
   ],
   "source": [
    "%run synthesis.py \\\n",
    "    --use_gpu=1 \\\n",
    "    --alpha=1.0 \\\n",
    "    --checkpoint='./fastspeech_ljspeech_ckpt_1.0/step-162000' \\\n",
    "    --config='./fastspeech_ljspeech_ckpt_1.0/ljspeech.yaml' \\\n",
    "    --output='./synthesis' \\\n",
    "    --vocoder='waveflow' \\\n",
    "    --config_vocoder='./waveflow_res128_ljspeech_ckpt_1.0/waveflow_ljspeech.yaml' \\\n",
    "    --checkpoint_vocoder='./waveflow_res128_ljspeech_ckpt_1.0/step-2000000' \\\n",
    "    --text_input='/home/aistudio/article.txt'"
   ]
  },
  {
   "cell_type": "code",
   "execution_count": null,
   "metadata": {
    "collapsed": false
   },
   "outputs": [],
   "source": [
    "# 生成list文件\n",
    "for i,line in enumerate(open('/home/aistudio/article.txt')): \n",
    "    with open('waveflow_article3.txt', 'a') as f:\n",
    "        result = 'file synthesis/samples/waveflow' + str(i) +'.wav'\n",
    "        f.write(result + \"\\n\")"
   ]
  },
  {
   "cell_type": "code",
   "execution_count": null,
   "metadata": {
    "collapsed": false
   },
   "outputs": [
    {
     "name": "stdout",
     "output_type": "stream",
     "text": [
      "ffmpeg version 2.8.15-0ubuntu0.16.04.1 Copyright (c) 2000-2018 the FFmpeg developers\n",
      "  built with gcc 5.4.0 (Ubuntu 5.4.0-6ubuntu1~16.04.10) 20160609\n",
      "  configuration: --prefix=/usr --extra-version=0ubuntu0.16.04.1 --build-suffix=-ffmpeg --toolchain=hardened --libdir=/usr/lib/x86_64-linux-gnu --incdir=/usr/include/x86_64-linux-gnu --cc=cc --cxx=g++ --enable-gpl --enable-shared --disable-stripping --disable-decoder=libopenjpeg --disable-decoder=libschroedinger --enable-avresample --enable-avisynth --enable-gnutls --enable-ladspa --enable-libass --enable-libbluray --enable-libbs2b --enable-libcaca --enable-libcdio --enable-libflite --enable-libfontconfig --enable-libfreetype --enable-libfribidi --enable-libgme --enable-libgsm --enable-libmodplug --enable-libmp3lame --enable-libopenjpeg --enable-libopus --enable-libpulse --enable-librtmp --enable-libschroedinger --enable-libshine --enable-libsnappy --enable-libsoxr --enable-libspeex --enable-libssh --enable-libtheora --enable-libtwolame --enable-libvorbis --enable-libvpx --enable-libwavpack --enable-libwebp --enable-libx265 --enable-libxvid --enable-libzvbi --enable-openal --enable-opengl --enable-x11grab --enable-libdc1394 --enable-libiec61883 --enable-libzmq --enable-frei0r --enable-libx264 --enable-libopencv\n",
      "  libavutil      54. 31.100 / 54. 31.100\n",
      "  libavcodec     56. 60.100 / 56. 60.100\n",
      "  libavformat    56. 40.101 / 56. 40.101\n",
      "  libavdevice    56.  4.100 / 56.  4.100\n",
      "  libavfilter     5. 40.101 /  5. 40.101\n",
      "  libavresample   2.  1.  0 /  2.  1.  0\n",
      "  libswscale      3.  1.101 /  3.  1.101\n",
      "  libswresample   1.  2.101 /  1.  2.101\n",
      "  libpostproc    53.  3.100 / 53.  3.100\n",
      "\u001b[0;33mGuessed Channel Layout for  Input Stream #0.0 : mono\n",
      "\u001b[0mInput #0, concat, from 'waveflow_article3.txt':\n",
      "  Duration: N/A, start: 0.000000, bitrate: 705 kb/s\n",
      "    Stream #0:0: Audio: pcm_f32le ([3][0][0][0] / 0x0003), 22050 Hz, 1 channels, flt, 705 kb/s\n",
      "File 'waveflow_article3.wav' already exists. Overwrite ? [y/N] ^C\n"
     ]
    }
   ],
   "source": [
    "# 音频拼接\n",
    "!ffmpeg -f concat -i waveflow_article3.txt -c copy 'waveflow_article3.wav'"
   ]
  },
  {
   "cell_type": "markdown",
   "metadata": {
    "collapsed": false
   },
   "source": [
    "# 5、利用Wav2lip将图片转换为视频并唇形合成"
   ]
  },
  {
   "cell_type": "code",
   "execution_count": 12,
   "metadata": {
    "collapsed": false
   },
   "outputs": [
    {
     "name": "stdout",
     "output_type": "stream",
     "text": [
      "/home/aistudio\n"
     ]
    }
   ],
   "source": [
    "%cd /home/aistudio"
   ]
  },
  {
   "cell_type": "code",
   "execution_count": 2,
   "metadata": {
    "collapsed": false
   },
   "outputs": [
    {
     "name": "stdout",
     "output_type": "stream",
     "text": [
      "/home/aistudio/sndfile\n",
      "/home/aistudio/sndfile/libsndfile-1.0.28\n",
      "checking build system type... x86_64-pc-linux-gnu\n",
      "checking host system type... x86_64-pc-linux-gnu\n",
      "checking target system type... x86_64-pc-linux-gnu\n",
      "checking for a BSD-compatible install... /usr/bin/install -c\n",
      "checking whether build environment is sane... yes\n",
      "checking for a thread-safe mkdir -p... /bin/mkdir -p\n",
      "checking for gawk... no\n",
      "checking for mawk... mawk\n",
      "checking whether make sets $(MAKE)... yes\n",
      "checking whether make supports nested variables... yes\n",
      "checking whether make supports nested variables... (cached) yes\n",
      "checking for style of include used by make... GNU\n",
      "checking for gcc... gcc\n",
      "checking whether the C compiler works... yes\n",
      "checking for C compiler default output file name... a.out\n",
      "checking for suffix of executables... \n",
      "checking whether we are cross compiling... no\n",
      "checking for suffix of object files... o\n",
      "checking whether we are using the GNU C compiler... yes\n",
      "checking whether gcc accepts -g... yes\n",
      "checking for gcc option to accept ISO C89... none needed\n",
      "checking whether gcc understands -c and -o together... yes\n",
      "checking dependency style of gcc... gcc3\n",
      "checking for gcc option to accept ISO C99... none needed\n",
      "checking for gcc option to accept ISO Standard C... (cached) none needed\n",
      "checking how to run the C preprocessor... gcc -E\n",
      "checking for grep that handles long lines and -e... /bin/grep\n",
      "checking for egrep... /bin/grep -E\n",
      "checking for ANSI C header files... yes\n",
      "checking for sys/types.h... yes\n",
      "checking for sys/stat.h... yes\n",
      "checking for stdlib.h... yes\n",
      "checking for string.h... yes\n",
      "checking for memory.h... yes\n",
      "checking for strings.h... yes\n",
      "checking for inttypes.h... yes\n",
      "checking for stdint.h... yes\n",
      "checking for unistd.h... yes\n",
      "checking minix/config.h usability... no\n",
      "checking minix/config.h presence... no\n",
      "checking for minix/config.h... no\n",
      "checking whether it is safe to define __EXTENSIONS__... yes\n",
      "checking for g++... g++\n",
      "checking whether we are using the GNU C++ compiler... yes\n",
      "checking whether g++ accepts -g... yes\n",
      "checking dependency style of g++... gcc3\n",
      "checking whether we are using the CLANG C compiler... no\n",
      "checking for a sed that does not truncate output... /bin/sed\n",
      "checking for ar... ar\n",
      "checking the archiver (ar) interface... ar\n",
      "checking how to print strings... printf\n",
      "checking for a sed that does not truncate output... (cached) /bin/sed\n",
      "checking for fgrep... /bin/grep -F\n",
      "checking for ld used by gcc... /usr/bin/ld\n",
      "checking if the linker (/usr/bin/ld) is GNU ld... yes\n",
      "checking for BSD- or MS-compatible name lister (nm)... /usr/bin/nm -B\n",
      "checking the name lister (/usr/bin/nm -B) interface... BSD nm\n",
      "checking whether ln -s works... yes\n",
      "checking the maximum length of command line arguments... 1572864\n",
      "checking how to convert x86_64-pc-linux-gnu file names to x86_64-pc-linux-gnu format... func_convert_file_noop\n",
      "checking how to convert x86_64-pc-linux-gnu file names to toolchain format... func_convert_file_noop\n",
      "checking for /usr/bin/ld option to reload object files... -r\n",
      "checking for objdump... objdump\n",
      "checking how to recognize dependent libraries... pass_all\n",
      "checking for dlltool... no\n",
      "checking how to associate runtime and link libraries... printf %s\\n\n",
      "checking for archiver @FILE support... @\n",
      "checking for strip... strip\n",
      "checking for ranlib... ranlib\n",
      "checking command to parse /usr/bin/nm -B output from gcc object... ok\n",
      "checking for sysroot... no\n",
      "checking for a working dd... /bin/dd\n",
      "checking how to truncate binary pipes... /bin/dd bs=4096 count=1\n",
      "checking for mt... mt\n",
      "checking if mt is a manifest tool... no\n",
      "checking for dlfcn.h... yes\n",
      "checking for objdir... .libs\n",
      "checking if gcc supports -fno-rtti -fno-exceptions... no\n",
      "checking for gcc option to produce PIC... -fPIC -DPIC\n",
      "checking if gcc PIC flag -fPIC -DPIC works... yes\n",
      "checking if gcc static flag -static works... yes\n",
      "checking if gcc supports -c -o file.o... yes\n",
      "checking if gcc supports -c -o file.o... (cached) yes\n",
      "checking whether the gcc linker (/usr/bin/ld -m elf_x86_64) supports shared libraries... yes\n",
      "checking whether -lc should be explicitly linked in... no\n",
      "checking dynamic linker characteristics... GNU/Linux ld.so\n",
      "checking how to hardcode library paths into programs... immediate\n",
      "checking whether stripping libraries is possible... yes\n",
      "checking if libtool supports shared libraries... yes\n",
      "checking whether to build shared libraries... yes\n",
      "checking whether to build static libraries... yes\n",
      "checking how to run the C++ preprocessor... g++ -E\n",
      "checking for ld used by g++... /usr/bin/ld -m elf_x86_64\n",
      "checking if the linker (/usr/bin/ld -m elf_x86_64) is GNU ld... yes\n",
      "checking whether the g++ linker (/usr/bin/ld -m elf_x86_64) supports shared libraries... yes\n",
      "checking for g++ option to produce PIC... -fPIC -DPIC\n",
      "checking if g++ PIC flag -fPIC -DPIC works... yes\n",
      "checking if g++ static flag -static works... yes\n",
      "checking if g++ supports -c -o file.o... yes\n",
      "checking if g++ supports -c -o file.o... (cached) yes\n",
      "checking whether the g++ linker (/usr/bin/ld -m elf_x86_64) supports shared libraries... yes\n",
      "checking dynamic linker characteristics... (cached) GNU/Linux ld.so\n",
      "checking how to hardcode library paths into programs... immediate\n",
      "checking for windres... no\n",
      "checking whether ln -s works... yes\n",
      "checking for autogen... no\n",
      "checking for wine... no\n",
      "checking for xcode-select... no\n",
      "checking for ANSI C header files... (cached) yes\n",
      "checking endian.h usability... yes\n",
      "checking endian.h presence... yes\n",
      "checking for endian.h... yes\n",
      "checking byteswap.h usability... yes\n",
      "checking byteswap.h presence... yes\n",
      "checking for byteswap.h... yes\n",
      "checking locale.h usability... yes\n",
      "checking locale.h presence... yes\n",
      "checking for locale.h... yes\n",
      "checking sys/time.h usability... yes\n",
      "checking sys/time.h presence... yes\n",
      "checking for sys/time.h... yes\n",
      "checking for sys/wait.h that is POSIX.1 compatible... yes\n",
      "checking whether S_IRGRP is declared... yes\n",
      "checking whether the -Werror option is usable... yes\n",
      "checking for simple visibility declarations... yes\n",
      "checking size of wchar_t... 4\n",
      "checking size of short... 2\n",
      "checking size of int... 4\n",
      "checking size of long... 8\n",
      "checking size of float... 4\n",
      "checking size of double... 8\n",
      "checking size of void*... 8\n",
      "checking size of size_t... 8\n",
      "checking size of int64_t... 8\n",
      "checking size of long long... 8\n",
      "checking size of off_t... 8\n",
      "checking for ssize_t... yes\n",
      "checking processor byte ordering... little\n",
      "checking for malloc... yes\n",
      "checking for calloc... yes\n",
      "checking for realloc... yes\n",
      "checking for free... yes\n",
      "checking for open... yes\n",
      "checking for read... yes\n",
      "checking for write... yes\n",
      "checking for lseek... yes\n",
      "checking for lseek64... yes\n",
      "checking for fstat... yes\n",
      "checking for fstat64... yes\n",
      "checking for ftruncate... yes\n",
      "checking for fsync... yes\n",
      "checking for snprintf... yes\n",
      "checking for vsnprintf... yes\n",
      "checking for gmtime... yes\n",
      "checking for gmtime_r... yes\n",
      "checking for localtime... yes\n",
      "checking for localtime_r... yes\n",
      "checking for gettimeofday... yes\n",
      "checking for mmap... yes\n",
      "checking for getpagesize... yes\n",
      "checking for setlocale... yes\n",
      "checking for pipe... yes\n",
      "checking for waitpid... yes\n",
      "checking for floor in -lm... yes\n",
      "checking for floor... yes\n",
      "checking for ceil... yes\n",
      "checking for fmod... yes\n",
      "checking for lround... yes\n",
      "checking for lrint... yes\n",
      "checking for lrintf... yes\n",
      "checking for octave... no\n",
      "checking for mkoctfile... no\n",
      "checking for octave-config... no\n",
      "checking for pkg-config... /usr/bin/pkg-config\n",
      "checking pkg-config is at least version 0.9.0... yes\n",
      "checking for flac >= 1.3.1 ... yes\n",
      "checking for ogg >= 1.1.3 ... yes\n",
      "checking for vorbis >= 1.2.3 ... yes\n",
      "checking for vorbisenc >= 1.2.3 ... yes\n",
      "checking for sqlite3 >= 3.2 ... yes\n",
      "checking processor clipping capabilities... none\n",
      "checking alsa/asoundlib.h usability... yes\n",
      "checking alsa/asoundlib.h presence... yes\n",
      "checking for alsa/asoundlib.h... yes\n",
      "configure: WARNING: Touching files in directory tests/.\n",
      "checking if gcc accepts -std=gnu99... yes\n",
      "checking for version of gcc... 7\n",
      "checking if gcc accepts -Wextra... yes\n",
      "checking if gcc accepts -Wdeclaration-after-statement... yes\n",
      "checking if gcc accepts -Wpointer-arith... yes\n",
      "checking if g++ accepts -Wextra... yes\n",
      "checking if g++ accepts -Wpointer-arith... yes\n",
      "checking whether to add -D_FORTIFY_SOURCE=2 to CPPFLAGS... yes\n",
      "checking that generated files are newer than configure... done\n",
      "configure: creating ./config.status\n",
      "config.status: creating src/Makefile\n",
      "config.status: creating man/Makefile\n",
      "config.status: creating examples/Makefile\n",
      "config.status: creating tests/Makefile\n",
      "config.status: creating regtest/Makefile\n",
      "config.status: creating M4/Makefile\n",
      "config.status: creating doc/Makefile\n",
      "config.status: creating Win32/Makefile\n",
      "config.status: creating Octave/Makefile\n",
      "config.status: creating programs/Makefile\n",
      "config.status: creating Makefile\n",
      "config.status: creating src/version-metadata.rc\n",
      "config.status: creating tests/test_wrapper.sh\n",
      "config.status: creating tests/pedantic-header-test.sh\n",
      "config.status: creating doc/libsndfile.css\n",
      "config.status: creating Scripts/build-test-tarball.mk\n",
      "config.status: creating libsndfile.spec\n",
      "config.status: creating sndfile.pc\n",
      "config.status: creating src/sndfile.h\n",
      "config.status: creating echo-install-dirs\n",
      "config.status: creating src/config.h\n",
      "config.status: src/config.h is unchanged\n",
      "config.status: executing depfiles commands\n",
      "config.status: executing libtool commands\n",
      "\n",
      "-=-=-=-=-=-=-=-=-=-= Configuration Complete =-=-=-=-=-=-=-=-=-=-\n",
      "\n",
      "  Configuration summary :\n",
      "\n",
      "    libsndfile version : .................. 1.0.28\n",
      "\n",
      "    Host CPU : ............................ x86_64\n",
      "    Host Vendor : ......................... pc\n",
      "    Host OS : ............................. linux-gnu\n",
      "\n",
      "    Experimental code : ................... no\n",
      "    Using ALSA in example programs : ...... yes\n",
      "    External FLAC/Ogg/Vorbis : ............ yes\n",
      "\n",
      "  Tools :\n",
      "\n",
      "    Compiler is Clang : ................... no\n",
      "    Compiler is GCC : ..................... yes\n",
      "    GCC version : ......................... 7\n",
      "    Sanitizer enabled : ................... no\n",
      "    Stack smash protection : .............. no\n",
      "\n",
      "  Installation directories :\n",
      "\n",
      "    Library directory : ................... /home/aistudio/build_libs/lib\n",
      "    Program directory : ................... /home/aistudio/build_libs/bin\n",
      "    Pkgconfig directory : ................. /home/aistudio/build_libs/lib/pkgconfig\n",
      "    HTML docs directory : ................. /home/aistudio/build_libs/share/doc/\n",
      "\n",
      "Compiling some other packages against libsndfile may require\n",
      "the addition of '/home/aistudio/build_libs/lib/pkgconfig' to the\n",
      "PKG_CONFIG_PATH environment variable.\n",
      "\n",
      "Making all in M4\n",
      "make[1]: Entering directory '/home/aistudio/sndfile/libsndfile-1.0.28/M4'\n",
      "make[1]: Nothing to be done for 'all'.\n",
      "make[1]: Leaving directory '/home/aistudio/sndfile/libsndfile-1.0.28/M4'\n",
      "Making all in Win32\n",
      "make[1]: Entering directory '/home/aistudio/sndfile/libsndfile-1.0.28/Win32'\n",
      "make[1]: Nothing to be done for 'all'.\n",
      "make[1]: Leaving directory '/home/aistudio/sndfile/libsndfile-1.0.28/Win32'\n",
      "Making all in src\n",
      "make[1]: Entering directory '/home/aistudio/sndfile/libsndfile-1.0.28/src'\n",
      "make  all-am\n",
      "make[2]: Entering directory '/home/aistudio/sndfile/libsndfile-1.0.28/src'\n",
      "  CC       alac.lo\n",
      "In file included from \u001b[01m\u001b[Kalac.c:28:0\u001b[m\u001b[K:\n",
      "\u001b[01m\u001b[Ksfendian.h:28:24:\u001b[m\u001b[K \u001b[01;35m\u001b[Kwarning: \u001b[m\u001b[Kthis use of \"defined\" may not be portable [\u001b[01;35m\u001b[K-Wexpansion-to-defined\u001b[m\u001b[K]\n",
      " #if COMPILER_IS_GCC && \u001b[01;35m\u001b[KCPU_IS_X86\u001b[m\u001b[K\n",
      "                        \u001b[01;35m\u001b[K^~~~~~~~~~\u001b[m\u001b[K\n",
      "\u001b[01m\u001b[Ksfendian.h:28:24:\u001b[m\u001b[K \u001b[01;35m\u001b[Kwarning: \u001b[m\u001b[Kthis use of \"defined\" may not be portable [\u001b[01;35m\u001b[K-Wexpansion-to-defined\u001b[m\u001b[K]\n",
      "\u001b[01m\u001b[Ksfendian.h:28:24:\u001b[m\u001b[K \u001b[01;35m\u001b[Kwarning: \u001b[m\u001b[Kthis use of \"defined\" may not be portable [\u001b[01;35m\u001b[K-Wexpansion-to-defined\u001b[m\u001b[K]\n",
      "\u001b[01m\u001b[Ksfendian.h:28:24:\u001b[m\u001b[K \u001b[01;35m\u001b[Kwarning: \u001b[m\u001b[Kthis use of \"defined\" may not be portable [\u001b[01;35m\u001b[K-Wexpansion-to-defined\u001b[m\u001b[K]\n",
      "\u001b[01m\u001b[Ksfendian.h:44:5:\u001b[m\u001b[K \u001b[01;35m\u001b[Kwarning: \u001b[m\u001b[Kthis use of \"defined\" may not be portable [\u001b[01;35m\u001b[K-Wexpansion-to-defined\u001b[m\u001b[K]\n",
      " #if \u001b[01;35m\u001b[KCPU_IS_X86_64\u001b[m\u001b[K\n",
      "     \u001b[01;35m\u001b[K^~~~~~~~~~~~~\u001b[m\u001b[K\n",
      "  CCLD     libcommon.la\n",
      "ar: `u' modifier ignored since `D' is the default (see `U')\n",
      "ar: .libs/common.o: No such file or directory\n",
      "Makefile:722: recipe for target 'libcommon.la' failed\n",
      "make[2]: *** [libcommon.la] Error 1\n",
      "make[2]: Leaving directory '/home/aistudio/sndfile/libsndfile-1.0.28/src'\n",
      "Makefile:551: recipe for target 'all' failed\n",
      "make[1]: *** [all] Error 2\n",
      "make[1]: Leaving directory '/home/aistudio/sndfile/libsndfile-1.0.28/src'\n",
      "Makefile:532: recipe for target 'all-recursive' failed\n",
      "make: *** [all-recursive] Error 1\n",
      "Making install in M4\n",
      "make[1]: Entering directory '/home/aistudio/sndfile/libsndfile-1.0.28/M4'\n",
      "make[2]: Entering directory '/home/aistudio/sndfile/libsndfile-1.0.28/M4'\n",
      "make[2]: Nothing to be done for 'install-exec-am'.\n",
      "make[2]: Nothing to be done for 'install-data-am'.\n",
      "make[2]: Leaving directory '/home/aistudio/sndfile/libsndfile-1.0.28/M4'\n",
      "make[1]: Leaving directory '/home/aistudio/sndfile/libsndfile-1.0.28/M4'\n",
      "Making install in Win32\n",
      "make[1]: Entering directory '/home/aistudio/sndfile/libsndfile-1.0.28/Win32'\n",
      "make[2]: Entering directory '/home/aistudio/sndfile/libsndfile-1.0.28/Win32'\n",
      "make[2]: Nothing to be done for 'install-exec-am'.\n",
      "make[2]: Nothing to be done for 'install-data-am'.\n",
      "make[2]: Leaving directory '/home/aistudio/sndfile/libsndfile-1.0.28/Win32'\n",
      "make[1]: Leaving directory '/home/aistudio/sndfile/libsndfile-1.0.28/Win32'\n",
      "Making install in src\n",
      "make[1]: Entering directory '/home/aistudio/sndfile/libsndfile-1.0.28/src'\n",
      "  CCLD     libcommon.la\n",
      "ar: `u' modifier ignored since `D' is the default (see `U')\n",
      "ar: .libs/common.o: No such file or directory\n",
      "Makefile:722: recipe for target 'libcommon.la' failed\n",
      "make[1]: *** [libcommon.la] Error 1\n",
      "make[1]: Leaving directory '/home/aistudio/sndfile/libsndfile-1.0.28/src'\n",
      "Makefile:532: recipe for target 'install-recursive' failed\n",
      "make: *** [install-recursive] Error 1\n"
     ]
    }
   ],
   "source": [
    "#!mkdir sndfile\r\n",
    "%cd sndfile\r\n",
    "#!wget http://www.mega-nerd.com/libsndfile/files/libsndfile-1.0.28.tar.gz\r\n",
    "#!tar xzvf libsndfile-1.0.28.tar.gz\r\n",
    "\r\n",
    "%cd libsndfile-1.0.28\r\n",
    "!./configure --prefix=/home/aistudio/build_libs CFLAGS=-fPIC --enable-shared \r\n",
    "!make\r\n",
    "!make install"
   ]
  },
  {
   "cell_type": "code",
   "execution_count": 13,
   "metadata": {
    "collapsed": false
   },
   "outputs": [
    {
     "name": "stdout",
     "output_type": "stream",
     "text": [
      "/home/aistudio\n"
     ]
    }
   ],
   "source": [
    "%cd ~"
   ]
  },
  {
   "cell_type": "code",
   "execution_count": 4,
   "metadata": {
    "collapsed": false
   },
   "outputs": [
    {
     "name": "stdout",
     "output_type": "stream",
     "text": [
      "Looking in indexes: https://mirror.baidu.com/pypi/simple/\n",
      "Requirement already satisfied: tqdm in /opt/conda/envs/python35-paddle120-env/lib/python3.7/site-packages (from -r PaddleGAN/requirements.txt (line 1)) (4.19.8)\n",
      "Requirement already satisfied: PyYAML>=5.1 in /opt/conda/envs/python35-paddle120-env/lib/python3.7/site-packages (from -r PaddleGAN/requirements.txt (line 2)) (5.1.2)\n",
      "Requirement already satisfied: scikit-image>=0.14.0 in /opt/conda/envs/python35-paddle120-env/lib/python3.7/site-packages (from -r PaddleGAN/requirements.txt (line 3)) (0.18.1)\n",
      "Requirement already satisfied: scipy>=1.1.0 in /opt/conda/envs/python35-paddle120-env/lib/python3.7/site-packages (from -r PaddleGAN/requirements.txt (line 4)) (1.3.0)\n",
      "Requirement already satisfied: opencv-python in /opt/conda/envs/python35-paddle120-env/lib/python3.7/site-packages (from -r PaddleGAN/requirements.txt (line 5)) (4.1.1.26)\n",
      "Requirement already satisfied: imageio-ffmpeg in /opt/conda/envs/python35-paddle120-env/lib/python3.7/site-packages (from -r PaddleGAN/requirements.txt (line 6)) (0.3.0)\n",
      "Requirement already satisfied: librosa==0.7.0 in /opt/conda/envs/python35-paddle120-env/lib/python3.7/site-packages (from -r PaddleGAN/requirements.txt (line 7)) (0.7.0)\n",
      "Collecting numba==0.48 (from -r PaddleGAN/requirements.txt (line 8))\n",
      "\u001b[?25l  Downloading https://mirror.baidu.com/pypi/packages/f6/10/d30ccbcbc7b19c96b228f86be82619c5f86c88344e5f492a6c93cce2439f/numba-0.48.0-1-cp37-cp37m-manylinux1_x86_64.whl (2.5MB)\n",
      "\u001b[K     |████████████████████████████████| 2.5MB 24.5MB/s eta 0:00:01\n",
      "\u001b[?25hRequirement already satisfied: easydict in /opt/conda/envs/python35-paddle120-env/lib/python3.7/site-packages (from -r PaddleGAN/requirements.txt (line 9)) (1.9)\n",
      "Requirement already satisfied: imageio>=2.3.0 in /opt/conda/envs/python35-paddle120-env/lib/python3.7/site-packages (from scikit-image>=0.14.0->-r PaddleGAN/requirements.txt (line 3)) (2.6.1)\n",
      "Requirement already satisfied: pillow!=7.1.0,!=7.1.1,>=4.3.0 in /opt/conda/envs/python35-paddle120-env/lib/python3.7/site-packages (from scikit-image>=0.14.0->-r PaddleGAN/requirements.txt (line 3)) (7.1.2)\n",
      "Requirement already satisfied: numpy>=1.16.5 in /opt/conda/envs/python35-paddle120-env/lib/python3.7/site-packages (from scikit-image>=0.14.0->-r PaddleGAN/requirements.txt (line 3)) (1.20.1)\n",
      "Requirement already satisfied: tifffile>=2019.7.26 in /opt/conda/envs/python35-paddle120-env/lib/python3.7/site-packages (from scikit-image>=0.14.0->-r PaddleGAN/requirements.txt (line 3)) (2021.2.1)\n",
      "Requirement already satisfied: PyWavelets>=1.1.1 in /opt/conda/envs/python35-paddle120-env/lib/python3.7/site-packages (from scikit-image>=0.14.0->-r PaddleGAN/requirements.txt (line 3)) (1.1.1)\n",
      "Requirement already satisfied: matplotlib!=3.0.0,>=2.0.0 in /opt/conda/envs/python35-paddle120-env/lib/python3.7/site-packages (from scikit-image>=0.14.0->-r PaddleGAN/requirements.txt (line 3)) (2.2.3)\n",
      "Requirement already satisfied: networkx>=2.0 in /opt/conda/envs/python35-paddle120-env/lib/python3.7/site-packages (from scikit-image>=0.14.0->-r PaddleGAN/requirements.txt (line 3)) (2.4)\n",
      "Requirement already satisfied: joblib>=0.12 in /opt/conda/envs/python35-paddle120-env/lib/python3.7/site-packages (from librosa==0.7.0->-r PaddleGAN/requirements.txt (line 7)) (0.14.1)\n",
      "Requirement already satisfied: decorator>=3.0.0 in /opt/conda/envs/python35-paddle120-env/lib/python3.7/site-packages (from librosa==0.7.0->-r PaddleGAN/requirements.txt (line 7)) (4.4.0)\n",
      "Requirement already satisfied: audioread>=2.0.0 in /opt/conda/envs/python35-paddle120-env/lib/python3.7/site-packages (from librosa==0.7.0->-r PaddleGAN/requirements.txt (line 7)) (2.1.8)\n",
      "Requirement already satisfied: resampy>=0.2.0 in /opt/conda/envs/python35-paddle120-env/lib/python3.7/site-packages (from librosa==0.7.0->-r PaddleGAN/requirements.txt (line 7)) (0.2.2)\n",
      "Requirement already satisfied: soundfile>=0.9.0 in /opt/conda/envs/python35-paddle120-env/lib/python3.7/site-packages (from librosa==0.7.0->-r PaddleGAN/requirements.txt (line 7)) (0.10.3.post1)\n",
      "Requirement already satisfied: scikit-learn!=0.19.0,>=0.14.0 in /opt/conda/envs/python35-paddle120-env/lib/python3.7/site-packages (from librosa==0.7.0->-r PaddleGAN/requirements.txt (line 7)) (0.22.1)\n",
      "Requirement already satisfied: six>=1.3 in /opt/conda/envs/python35-paddle120-env/lib/python3.7/site-packages (from librosa==0.7.0->-r PaddleGAN/requirements.txt (line 7)) (1.15.0)\n",
      "Requirement already satisfied: setuptools in /opt/conda/envs/python35-paddle120-env/lib/python3.7/site-packages (from numba==0.48->-r PaddleGAN/requirements.txt (line 8)) (41.4.0)\n",
      "Requirement already satisfied: llvmlite<0.32.0,>=0.31.0dev0 in /opt/conda/envs/python35-paddle120-env/lib/python3.7/site-packages (from numba==0.48->-r PaddleGAN/requirements.txt (line 8)) (0.31.0)\n",
      "Requirement already satisfied: pytz in /opt/conda/envs/python35-paddle120-env/lib/python3.7/site-packages (from matplotlib!=3.0.0,>=2.0.0->scikit-image>=0.14.0->-r PaddleGAN/requirements.txt (line 3)) (2019.3)\n",
      "Requirement already satisfied: cycler>=0.10 in /opt/conda/envs/python35-paddle120-env/lib/python3.7/site-packages (from matplotlib!=3.0.0,>=2.0.0->scikit-image>=0.14.0->-r PaddleGAN/requirements.txt (line 3)) (0.10.0)\n",
      "Requirement already satisfied: pyparsing!=2.0.4,!=2.1.2,!=2.1.6,>=2.0.1 in /opt/conda/envs/python35-paddle120-env/lib/python3.7/site-packages (from matplotlib!=3.0.0,>=2.0.0->scikit-image>=0.14.0->-r PaddleGAN/requirements.txt (line 3)) (2.4.2)\n",
      "Requirement already satisfied: kiwisolver>=1.0.1 in /opt/conda/envs/python35-paddle120-env/lib/python3.7/site-packages (from matplotlib!=3.0.0,>=2.0.0->scikit-image>=0.14.0->-r PaddleGAN/requirements.txt (line 3)) (1.1.0)\n",
      "Requirement already satisfied: python-dateutil>=2.1 in /opt/conda/envs/python35-paddle120-env/lib/python3.7/site-packages (from matplotlib!=3.0.0,>=2.0.0->scikit-image>=0.14.0->-r PaddleGAN/requirements.txt (line 3)) (2.8.0)\n",
      "Requirement already satisfied: cffi>=1.0 in /opt/conda/envs/python35-paddle120-env/lib/python3.7/site-packages (from soundfile>=0.9.0->librosa==0.7.0->-r PaddleGAN/requirements.txt (line 7)) (1.14.0)\n",
      "Requirement already satisfied: pycparser in /opt/conda/envs/python35-paddle120-env/lib/python3.7/site-packages (from cffi>=1.0->soundfile>=0.9.0->librosa==0.7.0->-r PaddleGAN/requirements.txt (line 7)) (2.19)\n",
      "\u001b[31mERROR: parakeet 0.0.0 has requirement numba==0.47.0, but you'll have numba 0.48.0 which is incompatible.\u001b[0m\n",
      "Installing collected packages: numba\n",
      "Successfully installed numba-0.48.0\n"
     ]
    }
   ],
   "source": [
    "!tar -xf /home/aistudio/PaddleGAN.tar\r\n",
    "!pip install -r PaddleGAN/requirements.txt"
   ]
  },
  {
   "cell_type": "code",
   "execution_count": 8,
   "metadata": {
    "collapsed": false
   },
   "outputs": [],
   "source": [
    "def combine_image_to_video(fps, count ,is_print=False):\r\n",
    "    '''\r\n",
    "        合并图像到视频\r\n",
    "    '''\r\n",
    "    comb_path=\"../aistudio/work/img/\"\r\n",
    "    output_file_path=\"../aistudio/work/img2video/video.mp4\"\r\n",
    "    fourcc = cv2.VideoWriter_fourcc(*'MP4V')    \r\n",
    "    \r\n",
    "    file_items = os.listdir(comb_path)\r\n",
    "    file_len = len(file_items)\r\n",
    "    # print(comb_path, file_items)\r\n",
    "    if file_len > 0 :\r\n",
    "        temp_img = cv2.imread(os.path.join(comb_path, file_items[0]))\r\n",
    "        img_height, img_width = temp_img.shape[0], temp_img.shape[1]\r\n",
    "        \r\n",
    "        out = cv2.VideoWriter(output_file_path, fourcc, fps, (img_width, img_height))\r\n",
    "\r\n",
    "        for i in range(count):\r\n",
    "            pic_name = os.path.join(comb_path+\"img.jpg\")\r\n",
    "            img = cv2.imread(pic_name)\r\n",
    "            out.write(img)\r\n",
    "        out.release()"
   ]
  },
  {
   "cell_type": "code",
   "execution_count": 14,
   "metadata": {
    "collapsed": false
   },
   "outputs": [],
   "source": [
    "import os\r\n",
    "import cv2\r\n",
    "import librosa\r\n",
    "def Wav2lip(img):\r\n",
    "    filepath = 'Parakeet/examples/fastspeech/waveflow_article3.wav'\r\n",
    "    duration=librosa.get_duration(filename=filepath)\r\n",
    "    command0=\"cp \"+img+\" work/img/img.jpg\"\r\n",
    "    os.system(command0)\r\n",
    "    #videopath=\"test.mp4\"\r\n",
    "    #video_capture = cv2.VideoCapture(videopath)\r\n",
    "    #fps = video_capture.get(cv2.CAP_PROP_FPS)\r\n",
    "    fps=30\r\n",
    "    #count=0\r\n",
    "    #while(True):\r\n",
    "    #    ret, frame = video_capture.read() \r\n",
    "    #    if ret:\r\n",
    "    #        count += 1\r\n",
    "    #    else:\r\n",
    "    #        break\r\n",
    "    #print(fps,int(duration*fps))\r\n",
    "    #video_capture.release()\r\n",
    "    combine_image_to_video(fps,int(duration*fps))\r\n",
    "    #command1=\"export PYTHONPATH=$PYTHONPATH:PaddleGAN && python PaddleGAN/applications/tools/wav2lip.py --face work/img2video/video.mp4 --audio \"+filepath+\" --outfile work/img2video/lip.mp4\"\r\n",
    "    os.system(\"export PYTHONPATH=$PYTHONPATH:/home/aistudio/PaddleGAN && python /home/aistudio/PaddleGAN/applications/tools/wav2lip.py --face /home/aistudio/work/img2video/video.mp4 --audio /home/aistudio/Parakeet/examples/fastspeech/waveflow_article3.wav --outfile /home/aistudio/work/img2video/video2.mp4\")\r\n",
    "\r\n",
    "Wav2lip(img)"
   ]
  },
  {
   "cell_type": "markdown",
   "metadata": {
    "collapsed": false
   },
   "source": [
    "# 6、利用humanseg进行人像分割"
   ]
  },
  {
   "cell_type": "code",
   "execution_count": 15,
   "metadata": {
    "collapsed": false
   },
   "outputs": [
    {
     "name": "stdout",
     "output_type": "stream",
     "text": [
      "Looking in indexes: https://pypi.tuna.tsinghua.edu.cn/simple\n",
      "Requirement already up-to-date: paddlehub in /opt/conda/envs/python35-paddle120-env/lib/python3.7/site-packages (2.0.0)\n",
      "Requirement already satisfied, skipping upgrade: colorama in /opt/conda/envs/python35-paddle120-env/lib/python3.7/site-packages (from paddlehub) (0.4.4)\n",
      "Requirement already satisfied, skipping upgrade: tqdm in /opt/conda/envs/python35-paddle120-env/lib/python3.7/site-packages (from paddlehub) (4.19.8)\n",
      "Requirement already satisfied, skipping upgrade: matplotlib in /opt/conda/envs/python35-paddle120-env/lib/python3.7/site-packages (from paddlehub) (2.2.3)\n",
      "Requirement already satisfied, skipping upgrade: gitpython in /opt/conda/envs/python35-paddle120-env/lib/python3.7/site-packages (from paddlehub) (3.1.13)\n",
      "Requirement already satisfied, skipping upgrade: opencv-python in /opt/conda/envs/python35-paddle120-env/lib/python3.7/site-packages (from paddlehub) (4.1.1.26)\n",
      "Requirement already satisfied, skipping upgrade: paddlenlp>=2.0.0b2 in /opt/conda/envs/python35-paddle120-env/lib/python3.7/site-packages (from paddlehub) (2.0.0rc1)\n",
      "Requirement already satisfied, skipping upgrade: visualdl>=2.0.0 in /opt/conda/envs/python35-paddle120-env/lib/python3.7/site-packages (from paddlehub) (2.1.1)\n",
      "Requirement already satisfied, skipping upgrade: packaging in /opt/conda/envs/python35-paddle120-env/lib/python3.7/site-packages (from paddlehub) (20.9)\n",
      "Requirement already satisfied, skipping upgrade: pyzmq in /opt/conda/envs/python35-paddle120-env/lib/python3.7/site-packages (from paddlehub) (18.1.1)\n",
      "Requirement already satisfied, skipping upgrade: filelock in /opt/conda/envs/python35-paddle120-env/lib/python3.7/site-packages (from paddlehub) (3.0.12)\n",
      "Requirement already satisfied, skipping upgrade: pyyaml in /opt/conda/envs/python35-paddle120-env/lib/python3.7/site-packages (from paddlehub) (5.1.2)\n",
      "Requirement already satisfied, skipping upgrade: easydict in /opt/conda/envs/python35-paddle120-env/lib/python3.7/site-packages (from paddlehub) (1.9)\n",
      "Requirement already satisfied, skipping upgrade: gunicorn>=19.10.0; sys_platform != \"win32\" in /opt/conda/envs/python35-paddle120-env/lib/python3.7/site-packages (from paddlehub) (20.0.4)\n",
      "Requirement already satisfied, skipping upgrade: numpy in /opt/conda/envs/python35-paddle120-env/lib/python3.7/site-packages (from paddlehub) (1.20.1)\n",
      "Requirement already satisfied, skipping upgrade: colorlog in /opt/conda/envs/python35-paddle120-env/lib/python3.7/site-packages (from paddlehub) (4.1.0)\n",
      "Requirement already satisfied, skipping upgrade: flask>=1.1.0 in /opt/conda/envs/python35-paddle120-env/lib/python3.7/site-packages (from paddlehub) (1.1.1)\n",
      "Requirement already satisfied, skipping upgrade: Pillow in /opt/conda/envs/python35-paddle120-env/lib/python3.7/site-packages (from paddlehub) (7.1.2)\n",
      "Requirement already satisfied, skipping upgrade: rarfile in /opt/conda/envs/python35-paddle120-env/lib/python3.7/site-packages (from paddlehub) (3.1)\n",
      "Requirement already satisfied, skipping upgrade: python-dateutil>=2.1 in /opt/conda/envs/python35-paddle120-env/lib/python3.7/site-packages (from matplotlib->paddlehub) (2.8.0)\n",
      "Requirement already satisfied, skipping upgrade: six>=1.10 in /opt/conda/envs/python35-paddle120-env/lib/python3.7/site-packages (from matplotlib->paddlehub) (1.15.0)\n",
      "Requirement already satisfied, skipping upgrade: pytz in /opt/conda/envs/python35-paddle120-env/lib/python3.7/site-packages (from matplotlib->paddlehub) (2019.3)\n",
      "Requirement already satisfied, skipping upgrade: kiwisolver>=1.0.1 in /opt/conda/envs/python35-paddle120-env/lib/python3.7/site-packages (from matplotlib->paddlehub) (1.1.0)\n",
      "Requirement already satisfied, skipping upgrade: pyparsing!=2.0.4,!=2.1.2,!=2.1.6,>=2.0.1 in /opt/conda/envs/python35-paddle120-env/lib/python3.7/site-packages (from matplotlib->paddlehub) (2.4.2)\n",
      "Requirement already satisfied, skipping upgrade: cycler>=0.10 in /opt/conda/envs/python35-paddle120-env/lib/python3.7/site-packages (from matplotlib->paddlehub) (0.10.0)\n",
      "Requirement already satisfied, skipping upgrade: gitdb<5,>=4.0.1 in /opt/conda/envs/python35-paddle120-env/lib/python3.7/site-packages (from gitpython->paddlehub) (4.0.5)\n",
      "Requirement already satisfied, skipping upgrade: h5py in /opt/conda/envs/python35-paddle120-env/lib/python3.7/site-packages (from paddlenlp>=2.0.0b2->paddlehub) (2.9.0)\n",
      "Requirement already satisfied, skipping upgrade: jieba in /opt/conda/envs/python35-paddle120-env/lib/python3.7/site-packages (from paddlenlp>=2.0.0b2->paddlehub) (0.42.1)\n",
      "Requirement already satisfied, skipping upgrade: seqeval in /opt/conda/envs/python35-paddle120-env/lib/python3.7/site-packages (from paddlenlp>=2.0.0b2->paddlehub) (1.2.2)\n",
      "Requirement already satisfied, skipping upgrade: shellcheck-py in /opt/conda/envs/python35-paddle120-env/lib/python3.7/site-packages (from visualdl>=2.0.0->paddlehub) (0.7.1.1)\n",
      "Requirement already satisfied, skipping upgrade: requests in /opt/conda/envs/python35-paddle120-env/lib/python3.7/site-packages (from visualdl>=2.0.0->paddlehub) (2.22.0)\n",
      "Requirement already satisfied, skipping upgrade: protobuf>=3.11.0 in /opt/conda/envs/python35-paddle120-env/lib/python3.7/site-packages (from visualdl>=2.0.0->paddlehub) (3.14.0)\n",
      "Requirement already satisfied, skipping upgrade: bce-python-sdk in /opt/conda/envs/python35-paddle120-env/lib/python3.7/site-packages (from visualdl>=2.0.0->paddlehub) (0.8.53)\n",
      "Requirement already satisfied, skipping upgrade: Flask-Babel>=1.0.0 in /opt/conda/envs/python35-paddle120-env/lib/python3.7/site-packages (from visualdl>=2.0.0->paddlehub) (1.0.0)\n",
      "Requirement already satisfied, skipping upgrade: pre-commit in /opt/conda/envs/python35-paddle120-env/lib/python3.7/site-packages (from visualdl>=2.0.0->paddlehub) (1.21.0)\n",
      "Requirement already satisfied, skipping upgrade: flake8>=3.7.9 in /opt/conda/envs/python35-paddle120-env/lib/python3.7/site-packages (from visualdl>=2.0.0->paddlehub) (3.8.2)\n",
      "Requirement already satisfied, skipping upgrade: setuptools>=3.0 in /opt/conda/envs/python35-paddle120-env/lib/python3.7/site-packages (from gunicorn>=19.10.0; sys_platform != \"win32\"->paddlehub) (41.4.0)\n",
      "Requirement already satisfied, skipping upgrade: Jinja2>=2.10.1 in /opt/conda/envs/python35-paddle120-env/lib/python3.7/site-packages (from flask>=1.1.0->paddlehub) (2.10.1)\n",
      "Requirement already satisfied, skipping upgrade: click>=5.1 in /opt/conda/envs/python35-paddle120-env/lib/python3.7/site-packages (from flask>=1.1.0->paddlehub) (7.0)\n",
      "Requirement already satisfied, skipping upgrade: Werkzeug>=0.15 in /opt/conda/envs/python35-paddle120-env/lib/python3.7/site-packages (from flask>=1.1.0->paddlehub) (0.16.0)\n",
      "Requirement already satisfied, skipping upgrade: itsdangerous>=0.24 in /opt/conda/envs/python35-paddle120-env/lib/python3.7/site-packages (from flask>=1.1.0->paddlehub) (1.1.0)\n",
      "Requirement already satisfied, skipping upgrade: smmap<4,>=3.0.1 in /opt/conda/envs/python35-paddle120-env/lib/python3.7/site-packages (from gitdb<5,>=4.0.1->gitpython->paddlehub) (3.0.5)\n",
      "Requirement already satisfied, skipping upgrade: scikit-learn>=0.21.3 in /opt/conda/envs/python35-paddle120-env/lib/python3.7/site-packages (from seqeval->paddlenlp>=2.0.0b2->paddlehub) (0.22.1)\n",
      "Requirement already satisfied, skipping upgrade: urllib3!=1.25.0,!=1.25.1,<1.26,>=1.21.1 in /opt/conda/envs/python35-paddle120-env/lib/python3.7/site-packages (from requests->visualdl>=2.0.0->paddlehub) (1.25.6)\n",
      "Requirement already satisfied, skipping upgrade: chardet<3.1.0,>=3.0.2 in /opt/conda/envs/python35-paddle120-env/lib/python3.7/site-packages (from requests->visualdl>=2.0.0->paddlehub) (3.0.4)\n",
      "Requirement already satisfied, skipping upgrade: idna<2.9,>=2.5 in /opt/conda/envs/python35-paddle120-env/lib/python3.7/site-packages (from requests->visualdl>=2.0.0->paddlehub) (2.8)\n",
      "Requirement already satisfied, skipping upgrade: certifi>=2017.4.17 in /opt/conda/envs/python35-paddle120-env/lib/python3.7/site-packages (from requests->visualdl>=2.0.0->paddlehub) (2019.9.11)\n",
      "Requirement already satisfied, skipping upgrade: future>=0.6.0 in /opt/conda/envs/python35-paddle120-env/lib/python3.7/site-packages (from bce-python-sdk->visualdl>=2.0.0->paddlehub) (0.18.0)\n",
      "Requirement already satisfied, skipping upgrade: pycryptodome>=3.8.0 in /opt/conda/envs/python35-paddle120-env/lib/python3.7/site-packages (from bce-python-sdk->visualdl>=2.0.0->paddlehub) (3.9.9)\n",
      "Requirement already satisfied, skipping upgrade: Babel>=2.3 in /opt/conda/envs/python35-paddle120-env/lib/python3.7/site-packages (from Flask-Babel>=1.0.0->visualdl>=2.0.0->paddlehub) (2.8.0)\n",
      "Requirement already satisfied, skipping upgrade: nodeenv>=0.11.1 in /opt/conda/envs/python35-paddle120-env/lib/python3.7/site-packages (from pre-commit->visualdl>=2.0.0->paddlehub) (1.3.4)\n",
      "Requirement already satisfied, skipping upgrade: toml in /opt/conda/envs/python35-paddle120-env/lib/python3.7/site-packages (from pre-commit->visualdl>=2.0.0->paddlehub) (0.10.0)\n",
      "Requirement already satisfied, skipping upgrade: aspy.yaml in /opt/conda/envs/python35-paddle120-env/lib/python3.7/site-packages (from pre-commit->visualdl>=2.0.0->paddlehub) (1.3.0)\n",
      "Requirement already satisfied, skipping upgrade: cfgv>=2.0.0 in /opt/conda/envs/python35-paddle120-env/lib/python3.7/site-packages (from pre-commit->visualdl>=2.0.0->paddlehub) (2.0.1)\n",
      "Requirement already satisfied, skipping upgrade: identify>=1.0.0 in /opt/conda/envs/python35-paddle120-env/lib/python3.7/site-packages (from pre-commit->visualdl>=2.0.0->paddlehub) (1.4.10)\n",
      "Requirement already satisfied, skipping upgrade: importlib-metadata; python_version < \"3.8\" in /opt/conda/envs/python35-paddle120-env/lib/python3.7/site-packages (from pre-commit->visualdl>=2.0.0->paddlehub) (0.23)\n",
      "Requirement already satisfied, skipping upgrade: virtualenv>=15.2 in /opt/conda/envs/python35-paddle120-env/lib/python3.7/site-packages (from pre-commit->visualdl>=2.0.0->paddlehub) (16.7.9)\n",
      "Requirement already satisfied, skipping upgrade: pycodestyle<2.7.0,>=2.6.0a1 in /opt/conda/envs/python35-paddle120-env/lib/python3.7/site-packages (from flake8>=3.7.9->visualdl>=2.0.0->paddlehub) (2.6.0)\n",
      "Requirement already satisfied, skipping upgrade: pyflakes<2.3.0,>=2.2.0 in /opt/conda/envs/python35-paddle120-env/lib/python3.7/site-packages (from flake8>=3.7.9->visualdl>=2.0.0->paddlehub) (2.2.0)\n",
      "Requirement already satisfied, skipping upgrade: mccabe<0.7.0,>=0.6.0 in /opt/conda/envs/python35-paddle120-env/lib/python3.7/site-packages (from flake8>=3.7.9->visualdl>=2.0.0->paddlehub) (0.6.1)\n",
      "Requirement already satisfied, skipping upgrade: MarkupSafe>=0.23 in /opt/conda/envs/python35-paddle120-env/lib/python3.7/site-packages (from Jinja2>=2.10.1->flask>=1.1.0->paddlehub) (1.1.1)\n",
      "Requirement already satisfied, skipping upgrade: scipy>=0.17.0 in /opt/conda/envs/python35-paddle120-env/lib/python3.7/site-packages (from scikit-learn>=0.21.3->seqeval->paddlenlp>=2.0.0b2->paddlehub) (1.3.0)\n",
      "Requirement already satisfied, skipping upgrade: joblib>=0.11 in /opt/conda/envs/python35-paddle120-env/lib/python3.7/site-packages (from scikit-learn>=0.21.3->seqeval->paddlenlp>=2.0.0b2->paddlehub) (0.14.1)\n",
      "Requirement already satisfied, skipping upgrade: zipp>=0.5 in /opt/conda/envs/python35-paddle120-env/lib/python3.7/site-packages (from importlib-metadata; python_version < \"3.8\"->pre-commit->visualdl>=2.0.0->paddlehub) (0.6.0)\n",
      "Requirement already satisfied, skipping upgrade: more-itertools in /opt/conda/envs/python35-paddle120-env/lib/python3.7/site-packages (from zipp>=0.5->importlib-metadata; python_version < \"3.8\"->pre-commit->visualdl>=2.0.0->paddlehub) (7.2.0)\n"
     ]
    }
   ],
   "source": [
    "!pip install paddlehub -U -i https://pypi.tuna.tsinghua.edu.cn/simple #用了清华的镜像源"
   ]
  },
  {
   "cell_type": "code",
   "execution_count": 16,
   "metadata": {
    "collapsed": false
   },
   "outputs": [
    {
     "name": "stdout",
     "output_type": "stream",
     "text": [
      "/opt/conda/envs/python35-paddle120-env/lib/python3.7/site-packages/paddle/fluid/layers/utils.py:26: DeprecationWarning: `np.int` is a deprecated alias for the builtin `int`. To silence this warning, use `int` by itself. Doing this will not modify any behavior and is safe. When replacing `np.int`, you may wish to use e.g. `np.int64` or `np.int32` to specify the precision. If you wish to review your current use, check the release note link for additional information.\n",
      "Deprecated in NumPy 1.20; for more details and guidance: https://numpy.org/devdocs/release/1.20.0-notes.html#deprecations\n",
      "  def convert_to_list(value, n, name, dtype=np.int):\n",
      "/opt/conda/envs/python35-paddle120-env/lib/python3.7/site-packages/matplotlib/__init__.py:107: DeprecationWarning: Using or importing the ABCs from 'collections' instead of from 'collections.abc' is deprecated, and in 3.8 it will stop working\n",
      "  from collections import MutableMapping\n",
      "/opt/conda/envs/python35-paddle120-env/lib/python3.7/site-packages/matplotlib/rcsetup.py:20: DeprecationWarning: Using or importing the ABCs from 'collections' instead of from 'collections.abc' is deprecated, and in 3.8 it will stop working\n",
      "  from collections import Iterable, Mapping\n",
      "/opt/conda/envs/python35-paddle120-env/lib/python3.7/site-packages/matplotlib/colors.py:53: DeprecationWarning: Using or importing the ABCs from 'collections' instead of from 'collections.abc' is deprecated, and in 3.8 it will stop working\n",
      "  from collections import Sized\n",
      "/opt/conda/envs/python35-paddle120-env/lib/python3.7/site-packages/scipy/special/orthogonal.py:81: DeprecationWarning: `np.int` is a deprecated alias for the builtin `int`. To silence this warning, use `int` by itself. Doing this will not modify any behavior and is safe. When replacing `np.int`, you may wish to use e.g. `np.int64` or `np.int32` to specify the precision. If you wish to review your current use, check the release note link for additional information.\n",
      "Deprecated in NumPy 1.20; for more details and guidance: https://numpy.org/devdocs/release/1.20.0-notes.html#deprecations\n",
      "  from numpy import (exp, inf, pi, sqrt, floor, sin, cos, around, int,\n",
      "/opt/conda/envs/python35-paddle120-env/lib/python3.7/site-packages/scipy/linalg/__init__.py:217: DeprecationWarning: The module numpy.dual is deprecated.  Instead of using dual, use the functions directly from numpy or scipy.\n",
      "  from numpy.dual import register_func\n",
      "\u001b[32m[2021-02-18 19:32:32,633] [    INFO]\u001b[0m - Module humanseg_server-1.2.1 already installed in /home/aistudio/.paddlehub/modules/humanseg_server\u001b[0m\n",
      "\u001b[0m"
     ]
    }
   ],
   "source": [
    "! hub install humanseg_server==1.2.1"
   ]
  },
  {
   "cell_type": "code",
   "execution_count": 17,
   "metadata": {
    "collapsed": false
   },
   "outputs": [
    {
     "name": "stderr",
     "output_type": "stream",
     "text": [
      "/opt/conda/envs/python35-paddle120-env/lib/python3.7/site-packages/paddle/fluid/layers/utils.py:26: DeprecationWarning: `np.int` is a deprecated alias for the builtin `int`. To silence this warning, use `int` by itself. Doing this will not modify any behavior and is safe. When replacing `np.int`, you may wish to use e.g. `np.int64` or `np.int32` to specify the precision. If you wish to review your current use, check the release note link for additional information.\n",
      "Deprecated in NumPy 1.20; for more details and guidance: https://numpy.org/devdocs/release/1.20.0-notes.html#deprecations\n",
      "  def convert_to_list(value, n, name, dtype=np.int):\n",
      "[2021-02-18 19:33:15,556] [ WARNING] - The _initialize method in HubModule will soon be deprecated, you can use the __init__() to handle the initialization of the object\n"
     ]
    }
   ],
   "source": [
    "import cv2\r\n",
    "import numpy as np\r\n",
    "import paddlehub as hub\r\n",
    "\r\n",
    "human_seg = hub.Module(name='humanseg_server')\r\n",
    "cap_video = cv2.VideoCapture('/home/aistudio/work/img2video/video2.mp4')\r\n",
    "fps = cap_video.get(cv2.CAP_PROP_FPS)\r\n",
    "save_path = '/home/aistudio/work/img2video/video3.mp4'\r\n",
    "width = int(cap_video.get(cv2.CAP_PROP_FRAME_WIDTH))\r\n",
    "height = int(cap_video.get(cv2.CAP_PROP_FRAME_HEIGHT))\r\n",
    "cap_out = cv2.VideoWriter(save_path, cv2.VideoWriter_fourcc('M', 'J', 'P', 'G'), fps, (width, height))\r\n",
    "prev_gray = None\r\n",
    "prev_cfd = None\r\n",
    "while cap_video.isOpened():\r\n",
    "    ret, frame_org = cap_video.read()\r\n",
    "    if ret:\r\n",
    "        [img_matting, prev_gray, prev_cfd] = human_seg.video_stream_segment(frame_org=frame_org, frame_id=cap_video.get(1), prev_gray=prev_gray, prev_cfd=prev_cfd)\r\n",
    "        img_matting = np.repeat(img_matting[:, :, np.newaxis], 3, axis=2)\r\n",
    "        bg_im = np.ones_like(img_matting) * 255\r\n",
    "        comb = (img_matting * frame_org + (1 - img_matting) * bg_im).astype(np.uint8)\r\n",
    "        cap_out.write(comb)\r\n",
    "    else:\r\n",
    "        break\r\n",
    "\r\n",
    "cap_video.release()\r\n",
    "cap_out.release()"
   ]
  },
  {
   "cell_type": "markdown",
   "metadata": {
    "collapsed": false
   },
   "source": [
    "**注意此处有PaddleHub的BUG，需要把上面这一块代码运行多一次即可**\n",
    "\n",
    "`AttributeError: module has no attribute '__name__'`\n",
    "这个问题的原因是.pyc文件的报错。\n",
    "\n",
    "pyc文件，是python编译后的字节码（bytecode）文件。\n",
    "\n",
    ".pyc文件作用：经过python解释器，会生成机器码运行（这也是为什么pyc文件可以跨平台部署，类似于java的跨平台，java中JVM运行的字节码文件）。下次调用直接调用pyc，而不调用py文件。直到你这个py文件有改变。python解释器会检查pyc文件中的生成时间，对比py文件的修改时间，如果py更新，那么就生成新的pyc。\n",
    "\n",
    "综上所述，报错与代码无关，跑多一次就OK了!"
   ]
  },
  {
   "cell_type": "markdown",
   "metadata": {
    "collapsed": false
   },
   "source": [
    "# 7、将视频转为GIF"
   ]
  },
  {
   "cell_type": "code",
   "execution_count": null,
   "metadata": {
    "collapsed": false
   },
   "outputs": [
    {
     "name": "stdout",
     "output_type": "stream",
     "text": [
      "MoviePy - Building file /home/aistudio/work/img2video/final.gif with imageio.\n"
     ]
    },
    {
     "name": "stderr",
     "output_type": "stream",
     "text": [
      "t:   0%|          | 0/91 [00:00<?, ?it/s, now=None]t:  78%|███████▊  | 71/91 [00:06<00:01, 11.22it/s, now=None]"
     ]
    }
   ],
   "source": [
    "import moviepy.editor as mpy\r\n",
    "content = mpy.VideoFileClip(\"/home/aistudio/work/img2video/video3.mp4\")\r\n",
    "content.write_gif(\"/home/aistudio/work/img2video/final.gif\")"
   ]
  },
  {
   "cell_type": "markdown",
   "metadata": {
    "collapsed": false
   },
   "source": [
    "#  8、发红包\n",
    "\n",
    "1、将GIF图下载到本地，并发送给自己手机\n",
    "\n",
    "![](https://ai-studio-static-online.cdn.bcebos.com/ee3db54243024b1ca4506755000e97db8aa266f6fed44c4a96983129914c4e1b)\n",
    "\n",
    "2、将GIF添加到自己的表情库里\n",
    "\n",
    "![](https://ai-studio-static-online.cdn.bcebos.com/015f0582e0c9462689b14d877ffb05d20bb019ddd7e841969270c247466a5492)\n",
    "\n",
    "3、打开发红包页面，点击笑脸\n",
    "\n",
    "![](https://ai-studio-static-online.cdn.bcebos.com/0fd8ba32cc4c498c94d3fa52ec34f6b3cd1e84402675446ebf1599047b3723cb)\n",
    "\n",
    "![](https://ai-studio-static-online.cdn.bcebos.com/bf5403a2b06942edbbdc8bb532034ea0926f156d529b406ea03a8478cfbbb3bf)\n",
    "\n",
    "4、完成，并看看效果吧\n",
    "\n",
    "![](https://ai-studio-static-online.cdn.bcebos.com/3f0eca7ce99245a2b503d0415a4bb143efe51383d51a4c769615dc2cc055f227)\n",
    "\n"
   ]
  },
  {
   "cell_type": "markdown",
   "metadata": {
    "collapsed": false
   },
   "source": [
    "# 关于作者\n",
    "\n",
    "😃姓名：曾焯淇😃\n",
    "\n",
    "😃学历：高中😃\n",
    "\n",
    "😃From：广东 佛山（欢迎面基）😃\n",
    "\n",
    "我在AI Studio上获得黄金等级，点亮3个徽章，来互关呀~ https://aistudio.baidu.com/aistudio/personalcenter/thirdview/233221"
   ]
  }
 ],
 "metadata": {
  "kernelspec": {
   "display_name": "PaddlePaddle 2.0.0b0 (Python 3.5)",
   "language": "python",
   "name": "py35-paddle1.2.0"
  },
  "language_info": {
   "codemirror_mode": {
    "name": "ipython",
    "version": 3
   },
   "file_extension": ".py",
   "mimetype": "text/x-python",
   "name": "python",
   "nbconvert_exporter": "python",
   "pygments_lexer": "ipython3",
   "version": "3.7.4"
  }
 },
 "nbformat": 4,
 "nbformat_minor": 1
}
